{
 "cells": [
  {
   "cell_type": "markdown",
   "metadata": {},
   "source": [
    "1. Write a program which will find all such numbers which are divisible by 7 but are not a multiple of 5, between 2000 and 3200 (both included). The numbers obtained should be printed in a comma-separated sequence on a single line. "
   ]
  },
  {
   "cell_type": "code",
   "execution_count": 1,
   "metadata": {},
   "outputs": [
    {
     "name": "stdout",
     "output_type": "stream",
     "text": [
      "2002,2009,2016,2023,2037,2044,2051,2058,2072,2079,2086,2093,2107,2114,2121,2128,2142,2149,2156,2163,2177,2184,2191,2198,2212,2219,2226,2233,2247,2254,2261,2268,2282,2289,2296,2303,2317,2324,2331,2338,2352,2359,2366,2373,2387,2394,2401,2408,2422,2429,2436,2443,2457,2464,2471,2478,2492,2499,2506,2513,2527,2534,2541,2548,2562,2569,2576,2583,2597,2604,2611,2618,2632,2639,2646,2653,2667,2674,2681,2688,2702,2709,2716,2723,2737,2744,2751,2758,2772,2779,2786,2793,2807,2814,2821,2828,2842,2849,2856,2863,2877,2884,2891,2898,2912,2919,2926,2933,2947,2954,2961,2968,2982,2989,2996,3003,3017,3024,3031,3038,3052,3059,3066,3073,3087,3094,3101,3108,3122,3129,3136,3143,3157,3164,3171,3178,3192,3199\n"
     ]
    }
   ],
   "source": [
    "# function to find number which is divisible by 7 but not a multiple of 5 between the given \"initial_value\" and \"threshold_value\"\n",
    "def find_numbers(initial_value, threshold_value):\n",
    "    numbers = []\n",
    "    while initial_value <= threshold_value:\n",
    "        if initial_value % 7 == 0 and initial_value % 5 != 0:\n",
    "            numbers.append(str(initial_value))\n",
    "        initial_value = initial_value + 1\n",
    "    return ','.join(numbers)\n",
    "\n",
    "# call find_numbers() function\n",
    "print(find_numbers(2000,3200))"
   ]
  },
  {
   "cell_type": "raw",
   "metadata": {},
   "source": [
    "******************************************************************************************************"
   ]
  },
  {
   "cell_type": "markdown",
   "metadata": {},
   "source": [
    "2. Write a Python program to accept the user's first and last name and then getting them printed in the the reverse order with a space between first name and last name"
   ]
  },
  {
   "cell_type": "code",
   "execution_count": 2,
   "metadata": {},
   "outputs": [
    {
     "name": "stdout",
     "output_type": "stream",
     "text": [
      "Enter your first name: John\n",
      "Enter your last name: Doe\n",
      "Your name in reverse order: Doe John\n"
     ]
    }
   ],
   "source": [
    "# take input from user\n",
    "fname = input('Enter your first name: ')\n",
    "lname = input('Enter your last name: ')\n",
    "\n",
    "# call lets_reverse() function and print\n",
    "print('Your name in reverse order:', '{} {}'.format(lname, fname))"
   ]
  },
  {
   "cell_type": "raw",
   "metadata": {},
   "source": [
    "******************************************************************************************************"
   ]
  },
  {
   "cell_type": "markdown",
   "metadata": {},
   "source": [
    "3.Write a Python program to find the volume of a sphere with diameter 12 cm.  \n",
    " \n",
    "Formula: V=4/3 * π * r 3 "
   ]
  },
  {
   "cell_type": "code",
   "execution_count": 3,
   "metadata": {},
   "outputs": [
    {
     "name": "stdout",
     "output_type": "stream",
     "text": [
      "The volume of a given diameter 12 cm is: 904.7786842338603\n"
     ]
    }
   ],
   "source": [
    "# import math package\n",
    "import math\n",
    "\n",
    "# calculate the volume of a sphere of given \"diameter\" \n",
    "def calculate_sphere_volume(diameter):\n",
    "    radius = diameter/2\n",
    "    return (4/3) * math.pi * (radius ** 3)\n",
    "\n",
    "# call calculate_sphere_volume() function and print result\n",
    "print('The volume of a given diameter 12 cm is:', calculate_sphere_volume(12))"
   ]
  },
  {
   "cell_type": "raw",
   "metadata": {},
   "source": [
    "******************************************************************************************************"
   ]
  },
  {
   "cell_type": "markdown",
   "metadata": {},
   "source": [
    "4.Write a program which accepts a sequence of comma-separated numbers from console and generate a list. "
   ]
  },
  {
   "cell_type": "code",
   "execution_count": 4,
   "metadata": {},
   "outputs": [
    {
     "name": "stdout",
     "output_type": "stream",
     "text": [
      "Enter comma-seperated numbers: 1,4,6,24,9627,8422,189, 3945,9,77\n",
      "Type is: <class 'list'>\n",
      "values are: [1, 4, 6, 24, 9627, 8422, 189, 3945, 9, 77]\n"
     ]
    }
   ],
   "source": [
    "# convert \"values\" to a list\n",
    "def generate_list(raw_numbers):\n",
    "    list = []\n",
    "    for each_number in raw_numbers.split(','):\n",
    "        list.append(int(each_number))\n",
    "    return list\n",
    "\n",
    "# get an input of a sequence of comma-separated numbers from user\n",
    "raw_numbers = input('Enter comma-seperated numbers: ')\n",
    "\n",
    "# call generate_list() function to convert \"input_values\" to a list\n",
    "result = generate_list(raw_numbers)\n",
    "\n",
    "# print list details\n",
    "print('Type is:', type(result))\n",
    "print('values are:', result)"
   ]
  },
  {
   "cell_type": "raw",
   "metadata": {},
   "source": [
    "******************************************************************************************************"
   ]
  },
  {
   "cell_type": "code",
   "execution_count": null,
   "metadata": {},
   "outputs": [],
   "source": []
  },
  {
   "cell_type": "raw",
   "metadata": {},
   "source": [
    "5. Create the below pattern using nested for loop in Python. \n",
    " \n",
    " \n",
    "*  \n",
    "* *  \n",
    "* * * \n",
    "* * * *  \n",
    "* * * * *  \n",
    "* * * *  \n",
    "* * *  \n",
    "* *  \n",
    "* \n",
    " \n",
    " "
   ]
  },
  {
   "cell_type": "code",
   "execution_count": 5,
   "metadata": {},
   "outputs": [
    {
     "name": "stdout",
     "output_type": "stream",
     "text": [
      "* \n",
      "* * \n",
      "* * * \n",
      "* * * * \n",
      "* * * * * \n",
      "* * * * \n",
      "* * * \n",
      "* * \n",
      "* \n"
     ]
    }
   ],
   "source": [
    "# create pattern\n",
    "def create_pattern(max_stars_on_a_row):\n",
    "    row = 1\n",
    "    is_reverse = False\n",
    "    total_loop = max_stars_on_a_row * 2\n",
    "    \n",
    "    while row < total_loop and row != 0:\n",
    "        star = '* ' * row\n",
    "        print(star)\n",
    "        if row <= max_stars_on_a_row and not is_reverse:\n",
    "            row = row + 1\n",
    "            if row == max_stars_on_a_row:\n",
    "                is_reverse = True\n",
    "        else:\n",
    "            row = row - 1\n",
    "\n",
    "# call create_pattern() function to print the pattern\n",
    "create_pattern(5)"
   ]
  },
  {
   "cell_type": "raw",
   "metadata": {},
   "source": [
    "******************************************************************************************************"
   ]
  },
  {
   "cell_type": "markdown",
   "metadata": {},
   "source": [
    "6. Write a Python program to reverse a word after accepting the input from the user. \n",
    " \n",
    "Sample Output: \n",
    " \n",
    "Input word: iNeuron \n",
    " \n",
    "Output: norueNi"
   ]
  },
  {
   "cell_type": "code",
   "execution_count": 6,
   "metadata": {},
   "outputs": [
    {
     "name": "stdout",
     "output_type": "stream",
     "text": [
      "Enter a word to reverse: iNeuron\n",
      "norueNi\n"
     ]
    }
   ],
   "source": [
    "# function to reverse the characters of a given parameter \"word\" \n",
    "def word_reverse(word):\n",
    "    reverse = ''\n",
    "    for alphabet in word:\n",
    "        reverse = alphabet + reverse\n",
    "    return reverse\n",
    "\n",
    "# take a word as an input from user\n",
    "input_word = input('Enter a word to reverse: ')\n",
    "\n",
    "# call word_reverse() function and print the result\n",
    "print(word_reverse(input_word))"
   ]
  },
  {
   "cell_type": "raw",
   "metadata": {},
   "source": [
    "******************************************************************************************************"
   ]
  },
  {
   "cell_type": "markdown",
   "metadata": {},
   "source": [
    "7. Write a Python Program to print the given string in the format specified in the ​sample output. \n",
    " WE, THE PEOPLE OF INDIA, having solemnly resolved to constitute India into a SOVEREIGN, SOCIALIST, SECULAR, DEMOCRATIC REPUBLIC and to secure to all its citizens \n",
    " \n",
    "Sample Output: \n",
    " \n",
    "WE, THE PEOPLE OF INDIA,   having solemnly resolved to constitute India into a SOVEREIGN, !  SOCIALIST, SECULAR, DEMOCRATIC REPUBLIC    and to secure to all its citizens "
   ]
  },
  {
   "cell_type": "code",
   "execution_count": 7,
   "metadata": {},
   "outputs": [
    {
     "name": "stdout",
     "output_type": "stream",
     "text": [
      "WE, THE PEOPLE OF INDIA, having solemnly resolved to constitute India into a SOVEREIGN, ! SOCIALIST, SECULAR, DEMOCRATIC REPUBLIC and to secure to all its citizens\n"
     ]
    }
   ],
   "source": [
    "given_string = 'WE, THE PEOPLE OF INDIA, having solemnly resolved to constitute India into a SOVEREIGN, {} SOCIALIST, SECULAR, DEMOCRATIC REPUBLIC and to secure to all its citizens'\n",
    "result = given_string.format('!')\n",
    "print(result)"
   ]
  },
  {
   "cell_type": "raw",
   "metadata": {},
   "source": [
    "******************************************************************************************************"
   ]
  },
  {
   "cell_type": "markdown",
   "metadata": {},
   "source": [
    "Note : - NOTE:​ ​The​ ​solution​ ​shared​ ​through​ ​Github​ ​should​ ​contain​ ​the​ ​source code​ ​used​ ​ and​  ​the​ ​output"
   ]
  },
  {
   "cell_type": "code",
   "execution_count": null,
   "metadata": {},
   "outputs": [],
   "source": []
  }
 ],
 "metadata": {
  "kernelspec": {
   "display_name": "Python 3",
   "language": "python",
   "name": "python3"
  },
  "language_info": {
   "codemirror_mode": {
    "name": "ipython",
    "version": 3
   },
   "file_extension": ".py",
   "mimetype": "text/x-python",
   "name": "python",
   "nbconvert_exporter": "python",
   "pygments_lexer": "ipython3",
   "version": "3.7.4"
  }
 },
 "nbformat": 4,
 "nbformat_minor": 2
}
